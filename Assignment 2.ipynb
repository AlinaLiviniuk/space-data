{
 "cells": [
  {
   "cell_type": "markdown",
   "metadata": {},
   "source": [
    "# Assignment 2 report\n",
    "## Anton Marin"
   ]
  },
  {
   "cell_type": "markdown",
   "metadata": {},
   "source": [
    "Some imports first"
   ]
  },
  {
   "cell_type": "code",
   "execution_count": 135,
   "metadata": {
    "collapsed": true
   },
   "outputs": [],
   "source": [
    "from scipy.io import loadmat\n",
    "import matplotlib.pyplot as plt\n",
    "import datetime\n",
    "import numpy as np\n",
    "import calendar\n",
    "from sklearn.metrics import mean_squared_error\n",
    "%matplotlib inline"
   ]
  },
  {
   "cell_type": "markdown",
   "metadata": {},
   "source": [
    "This function adds given integer amount of months to a datetime object, returns a new datetime object"
   ]
  },
  {
   "cell_type": "code",
   "execution_count": 62,
   "metadata": {
    "collapsed": true
   },
   "outputs": [],
   "source": [
    "def add_months(sourcedate,months):\n",
    "    month = sourcedate.month - 1 + months\n",
    "    year = sourcedate.year + month // 12\n",
    "    month = month % 12 + 1\n",
    "    day = min(sourcedate.day,calendar.monthrange(year,month)[1])\n",
    "    return datetime.date(year,month,day)"
   ]
  },
  {
   "cell_type": "markdown",
   "metadata": {},
   "source": [
    "Loading data"
   ]
  },
  {
   "cell_type": "code",
   "execution_count": 153,
   "metadata": {
    "collapsed": true
   },
   "outputs": [],
   "source": [
    "sunspot = loadmat('data/sunspot_number.mat')['SN_data']\n",
    "predictions = loadmat('data/SN_predictions.mat')['SN_predictions'][:,2]\n",
    "ground_truth = loadmat('data/sunspot_number_check.mat')['SN_data_check']"
   ]
  },
  {
   "cell_type": "markdown",
   "metadata": {},
   "source": [
    "Extracting dates from data, converting them to datetime objects, also defining given prediction dates as last 6 months of data dates"
   ]
  },
  {
   "cell_type": "code",
   "execution_count": 91,
   "metadata": {
    "collapsed": true,
    "scrolled": true
   },
   "outputs": [],
   "source": [
    "dates=np.array(list(map(lambda x: datetime.datetime(year=int(x//100), month=int(x%100), day=1),sunspot[:,0])))\n",
    "dates_prediction = [add_months(dates[-6], x) for x in range(len(predictions))]"
   ]
  },
  {
   "cell_type": "markdown",
   "metadata": {},
   "source": [
    "Here "
   ]
  },
  {
   "cell_type": "code",
   "execution_count": 168,
   "metadata": {
    "collapsed": true
   },
   "outputs": [],
   "source": [
    "dates_gt=np.array(list(map(lambda x: datetime.date(year=int(x//100), month=int(x%100), day=1),ground_truth[:,0])))\n",
    "\n",
    "index_gt_start = None\n",
    "index_gt_stop = None\n",
    "for i in range(len(dates_gt)):\n",
    "    if dates_gt[i] == dates_prediction[0]:\n",
    "        index_gt_start = i\n",
    "        \n",
    "    if dates_gt[i] == dates_prediction[-1]:\n",
    "        index_gt_stop = i\n",
    "\n",
    "ground_truth_extracted = ground_truth[index_gt_start:index_gt_stop+1, 3]"
   ]
  },
  {
   "cell_type": "code",
   "execution_count": 92,
   "metadata": {
    "collapsed": true
   },
   "outputs": [],
   "source": [
    "first_measurement = -30"
   ]
  },
  {
   "cell_type": "code",
   "execution_count": 107,
   "metadata": {},
   "outputs": [
    {
     "data": {
      "text/plain": [
       "9.3000000000000007"
      ]
     },
     "execution_count": 107,
     "metadata": {},
     "output_type": "execute_result"
    }
   ],
   "source": [
    "last_smoothed_value = sunspot[-7,3]"
   ]
  },
  {
   "cell_type": "code",
   "execution_count": 102,
   "metadata": {
    "collapsed": true
   },
   "outputs": [],
   "source": [
    "R = sunspot[-6:,2]\n",
    "Phi_1 = np.zeros(len(predictions)-1)\n",
    "for i in range(len(Phi)):\n",
    "    Phi_1[i] = predictions[i+1]/predictions[i]\n"
   ]
  },
  {
   "cell_type": "code",
   "execution_count": 114,
   "metadata": {
    "collapsed": true
   },
   "outputs": [],
   "source": [
    "R_extrapolated = np.zeros(7)\n",
    "R_filtered = np.zeros(7)\n",
    "sigma_extrapolated = np.zeros(7)\n",
    "sigma_filtered = np.zeros(7)\n",
    "K = np.zeros(7)"
   ]
  },
  {
   "cell_type": "code",
   "execution_count": 115,
   "metadata": {
    "collapsed": true
   },
   "outputs": [],
   "source": [
    "R_filtered[0] = last_smoothed_value\n",
    "sigma_filtered[0] = 0"
   ]
  },
  {
   "cell_type": "code",
   "execution_count": 116,
   "metadata": {
    "collapsed": true
   },
   "outputs": [],
   "source": [
    "for i in range(1, 7):\n",
    "    # extrapolation\n",
    "    R_extrapolated[i]=Phi_1[i-1]*R_filtered[i-1]\n",
    "    sigma_w = 0.2*R_filtered[i-1]\n",
    "    sigma_v = 2.5*R_filtered[i-1]\n",
    "    sigma_extrapolated[i] = Phi_1[i-1]**2 * sigma_filtered[i-1] + sigma_w\n",
    "    \n",
    "    # filtration\n",
    "    K[i] = sigma_extrapolated[i]/(sigma_extrapolated[i] + sigma_v)\n",
    "    R_filtered[i] = R_extrapolated[i] + K[i]*(R[i-1] - R_extrapolated[i])\n",
    "    sigma_filtered[i] = (1 - K[i]) * sigma_extrapolated[i]"
   ]
  },
  {
   "cell_type": "code",
   "execution_count": 127,
   "metadata": {
    "scrolled": true
   },
   "outputs": [
    {
     "name": "stdout",
     "output_type": "stream",
     "text": [
      "12 17\n"
     ]
    }
   ],
   "source": [
    "rest_predictions = np.zeros(len(predictions)-6)\n",
    "rest_predictions[0]=Phi_1[5] * R_filtered[-1]\n",
    "for i in range(1, len(rest_predictions)):\n",
    "    rest_predictions[i]=Phi_1[i+5] * rest_predictions[i-1]"
   ]
  },
  {
   "cell_type": "code",
   "execution_count": 130,
   "metadata": {
    "collapsed": true
   },
   "outputs": [],
   "source": [
    "updated_predictions = np.zeros(len(predictions))\n",
    "updated_predictions[:6] = R_filtered[1:]\n",
    "updated_predictions[6:] = rest_predictions"
   ]
  },
  {
   "cell_type": "code",
   "execution_count": 175,
   "metadata": {},
   "outputs": [
    {
     "data": {
      "text/plain": [
       "<matplotlib.legend.Legend at 0x7f07378e3a58>"
      ]
     },
     "execution_count": 175,
     "metadata": {},
     "output_type": "execute_result"
    },
    {
     "data": {
      "image/png": "[encoded data removed]",
      "text/plain": [
       "<Figure size 720x432 with 1 Axes>"
      ]
     },
     "metadata": {},
     "output_type": "display_data"
    }
   ],
   "source": [
    "plt.figure(figsize=(10, 6))\n",
    "plt.plot(dates[first_measurement:], sunspot[first_measurement:,2], label='Monthly sunspot number')\n",
    "plt.plot(dates[first_measurement:-6], sunspot[first_measurement:-6,3], label='Smoothed monthly mean sunspot number')\n",
    "plt.plot(dates_prediction, predictions, label='Original predictions')\n",
    "plt.plot(dates_prediction, updated_predictions, label='Updated predictions')\n",
    "plt.plot(dates_prediction[:6], R_filtered[1:], label='Filtered predictions')\n",
    "plt.plot(dates_prediction, ground_truth_extracted, label='Ground truth')\n",
    "plt.legend()"
   ]
  },
  {
   "cell_type": "code",
   "execution_count": 208,
   "metadata": {},
   "outputs": [
    {
     "data": {
      "text/plain": [
       "20.890069411086216"
      ]
     },
     "execution_count": 208,
     "metadata": {},
     "output_type": "execute_result"
    }
   ],
   "source": [
    "mean_squared_error(predictions, ground_truth_extracted)**0.5\n"
   ]
  },
  {
   "cell_type": "code",
   "execution_count": 209,
   "metadata": {},
   "outputs": [
    {
     "data": {
      "text/plain": [
       "5.1575353484323383"
      ]
     },
     "execution_count": 209,
     "metadata": {},
     "output_type": "execute_result"
    }
   ],
   "source": [
    "mean_squared_error(updated_predictions, ground_truth_extracted)**0.5"
   ]
  },
  {
   "cell_type": "code",
   "execution_count": 207,
   "metadata": {
    "scrolled": true
   },
   "outputs": [
    {
     "data": {
      "text/plain": [
       "21.495704085180535"
      ]
     },
     "execution_count": 207,
     "metadata": {},
     "output_type": "execute_result"
    }
   ],
   "source": [
    "(np.sum((predictions - ground_truth_extracted)**2)/(len(predictions)-1))**0.5"
   ]
  },
  {
   "cell_type": "code",
   "execution_count": 205,
   "metadata": {},
   "outputs": [
    {
     "data": {
      "text/plain": [
       "7855.1100000000006"
      ]
     },
     "execution_count": 205,
     "metadata": {},
     "output_type": "execute_result"
    }
   ],
   "source": [
    "np.sum((predictions - ground_truth_extracted)**2)"
   ]
  },
  {
   "cell_type": "code",
   "execution_count": 195,
   "metadata": {},
   "outputs": [
    {
     "data": {
      "text/plain": [
       "array([12, 16, 19, 23, 27, 32, 37, 42, 47, 52, 56, 60, 64, 66, 68, 71, 73,\n",
       "       75], dtype=uint16)"
      ]
     },
     "execution_count": 195,
     "metadata": {},
     "output_type": "execute_result"
    }
   ],
   "source": [
    "predictions"
   ]
  },
  {
   "cell_type": "code",
   "execution_count": 196,
   "metadata": {},
   "outputs": [
    {
     "data": {
      "text/plain": [
       "array([ 10.6,  12.3,  14. ,  15.5,  16.4,  16.7,  17.4,  19.6,  23.2,\n",
       "        26.5,  28.8,  30.9,  33.4,  36.9,  41.8,  47.6,  53.2,  57.3])"
      ]
     },
     "execution_count": 196,
     "metadata": {},
     "output_type": "execute_result"
    }
   ],
   "source": [
    "ground_truth_extracted"
   ]
  },
  {
   "cell_type": "code",
   "execution_count": 197,
   "metadata": {},
   "outputs": [
    {
     "data": {
      "text/plain": [
       "array([   1.96,   13.69,   25.  ,   56.25,  112.36,  234.09,  384.16,\n",
       "        501.76,  566.44,  650.25,  739.84,  846.81,  936.36,  846.81,\n",
       "        686.44,  547.56,  392.04,  313.29])"
      ]
     },
     "execution_count": 197,
     "metadata": {},
     "output_type": "execute_result"
    }
   ],
   "source": [
    "(predictions - ground_truth_extracted)**2"
   ]
  },
  {
   "cell_type": "code",
   "execution_count": 211,
   "metadata": {},
   "outputs": [
    {
     "data": {
      "text/plain": [
       "9.1650789870849536"
      ]
     },
     "execution_count": 211,
     "metadata": {},
     "output_type": "execute_result"
    }
   ],
   "source": [
    "np.std(predictions - ground_truth_extracted)"
   ]
  },
  {
   "cell_type": "code",
   "execution_count": 212,
   "metadata": {},
   "outputs": [
    {
     "data": {
      "text/plain": [
       "4.974043748507917"
      ]
     },
     "execution_count": 212,
     "metadata": {},
     "output_type": "execute_result"
    }
   ],
   "source": [
    "np.std(updated_predictions - ground_truth_extracted)"
   ]
  },
  {
   "cell_type": "code",
   "execution_count": null,
   "metadata": {
    "collapsed": true
   },
   "outputs": [],
   "source": []
  }
 ],
 "metadata": {
  "kernelspec": {
   "display_name": "Python 3",
   "language": "python",
   "name": "python3"
  },
  "language_info": {
   "codemirror_mode": {
    "name": "ipython",
    "version": 3
   },
   "file_extension": ".py",
   "mimetype": "text/x-python",
   "name": "python",
   "nbconvert_exporter": "python",
   "pygments_lexer": "ipython3",
   "version": "3.5.2"
  }
 },
 "nbformat": 4,
 "nbformat_minor": 2
}
