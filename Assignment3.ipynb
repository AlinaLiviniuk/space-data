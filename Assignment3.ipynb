{
 "cells": [
  {
   "cell_type": "markdown",
   "metadata": {},
   "source": [
    "# Disturbance Storm Time Index Prediction"
   ]
  },
  {
   "cell_type": "markdown",
   "metadata": {},
   "source": [
    "by Viktor Liviniuk and Alina Liviniuk <br>\n",
    "April 2, 2018 <br>\n",
    "Skoltech <br>"
   ]
  },
  {
   "cell_type": "code",
   "execution_count": 22,
   "metadata": {
    "collapsed": true
   },
   "outputs": [],
   "source": [
    "import numpy as np\n",
    "import matplotlib\n",
    "from matplotlib import pyplot as plt\n",
    "\n",
    "%matplotlib inline"
   ]
  },
  {
   "cell_type": "code",
   "execution_count": 23,
   "metadata": {
    "collapsed": true
   },
   "outputs": [],
   "source": [
    "#download and preparing data\n",
    "data = np.loadtxt(\"data.lst\")"
   ]
  },
  {
   "cell_type": "code",
   "execution_count": 24,
   "metadata": {},
   "outputs": [
    {
     "data": {
      "text/plain": [
       "array([[  2.00100000e+03,   1.00000000e+00,   0.00000000e+00, ...,\n",
       "          2.93000000e+02,   8.80000000e-01,  -6.00000000e+00],\n",
       "       [  2.00100000e+03,   1.00000000e+00,   1.00000000e+00, ...,\n",
       "          2.96000000e+02,   9.90000000e-01,  -2.00000000e+00],\n",
       "       [  2.00100000e+03,   1.00000000e+00,   2.00000000e+00, ...,\n",
       "          2.94000000e+02,   1.06000000e+00,   2.00000000e+00],\n",
       "       ..., \n",
       "       [  2.00100000e+03,   3.65000000e+02,   2.10000000e+01, ...,\n",
       "          5.01000000e+02,   1.64000000e+00,  -4.20000000e+01],\n",
       "       [  2.00100000e+03,   3.65000000e+02,   2.20000000e+01, ...,\n",
       "          4.83000000e+02,   1.48000000e+00,  -4.30000000e+01],\n",
       "       [  2.00100000e+03,   3.65000000e+02,   2.30000000e+01, ...,\n",
       "          4.71000000e+02,   1.33000000e+00,  -4.10000000e+01]])"
      ]
     },
     "execution_count": 24,
     "metadata": {},
     "output_type": "execute_result"
    }
   ],
   "source": [
    "data"
   ]
  },
  {
   "cell_type": "code",
   "execution_count": 25,
   "metadata": {
    "collapsed": true
   },
   "outputs": [],
   "source": [
    "year = data[:, 0]\n",
    "day = data[:, 1]\n",
    "hr = data[:, 2]\n",
    "bz = data[:, 3] #BZ (GSM)\n",
    "sw = data[:, 4] #SW plasma speed\n",
    "fp = data[:, 5] #flow pressure\n",
    "dst = data[:, 6] #DST index"
   ]
  },
  {
   "cell_type": "code",
   "execution_count": 26,
   "metadata": {},
   "outputs": [
    {
     "data": {
      "text/plain": [
       "8760"
      ]
     },
     "execution_count": 26,
     "metadata": {},
     "output_type": "execute_result"
    }
   ],
   "source": [
    "len(year)"
   ]
  },
  {
   "cell_type": "code",
   "execution_count": 27,
   "metadata": {},
   "outputs": [
    {
     "data": {
      "text/plain": [
       "array([ -6.,  -2.,   2., ..., -42., -43., -41.])"
      ]
     },
     "execution_count": 27,
     "metadata": {},
     "output_type": "execute_result"
    }
   ],
   "source": [
    "dst"
   ]
  },
  {
   "cell_type": "code",
   "execution_count": 20,
   "metadata": {
    "collapsed": true
   },
   "outputs": [],
   "source": [
    "# find VBs\n",
    "#vbs = np.zeros(len(year))\n",
    "#for i in range(len(year)):\n",
    "#         vbs[i] = sw[i] * bz[i] / 10 **3\n"
   ]
  },
  {
   "cell_type": "code",
   "execution_count": 21,
   "metadata": {
    "collapsed": true
   },
   "outputs": [],
   "source": [
    "# model AK1\n",
    "\n",
    "vbs = sw[8759] * bz[8759] / 10 **3\n",
    "\n",
    "from scipy.integrate import odeint\n",
    "# function that returns dy/dt\n",
    "def model(y,t):\n",
    "    dydt = - 1 / 17 * y - 2.47 * vbs\n",
    "    return dydt\n",
    "\n",
    "# initial condition\n",
    "y0 = 0\n",
    "\n",
    "# time points\n",
    "t = np.linspace(0,1)\n",
    "\n",
    "# solve ODE\n",
    "y = odeint(model,y0,t)\n"
   ]
  },
  {
   "cell_type": "code",
   "execution_count": null,
   "metadata": {
    "collapsed": true
   },
   "outputs": [],
   "source": [
    "# model UCB"
   ]
  },
  {
   "cell_type": "code",
   "execution_count": null,
   "metadata": {
    "collapsed": true
   },
   "outputs": [],
   "source": [
    "# model AK2"
   ]
  },
  {
   "cell_type": "code",
   "execution_count": null,
   "metadata": {
    "collapsed": true
   },
   "outputs": [],
   "source": []
  },
  {
   "cell_type": "code",
   "execution_count": null,
   "metadata": {
    "collapsed": true
   },
   "outputs": [],
   "source": []
  }
 ],
 "metadata": {
  "kernelspec": {
   "display_name": "Python 3",
   "language": "python",
   "name": "python3"
  },
  "language_info": {
   "codemirror_mode": {
    "name": "ipython",
    "version": 3
   },
   "file_extension": ".py",
   "mimetype": "text/x-python",
   "name": "python",
   "nbconvert_exporter": "python",
   "pygments_lexer": "ipython3",
   "version": "3.6.2"
  }
 },
 "nbformat": 4,
 "nbformat_minor": 2
}
